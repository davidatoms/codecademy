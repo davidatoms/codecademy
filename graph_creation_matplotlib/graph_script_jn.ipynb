{
 "cells": [
  {
   "cell_type": "code",
   "execution_count": 1,
   "id": "9f57e588",
   "metadata": {},
   "outputs": [],
   "source": [
    "from matplotlib import pyplot as plt"
   ]
  },
  {
   "cell_type": "code",
   "execution_count": 2,
   "id": "bee1fd5b",
   "metadata": {},
   "outputs": [],
   "source": [
    "# Data copied from codecademy\n",
    "past_years_averages = [82, 84, 83, 86, 74, 84, 90]\n",
    "years = [2000, 2001, 2002, 2003, 2004, 2005, 2006]\n",
    "error = [1.5, 2.1, 1.2, 3.2, 2.3, 1.7, 2.4]"
   ]
  },
  {
   "cell_type": "code",
   "execution_count": null,
   "id": "fca6dbe7",
   "metadata": {},
   "outputs": [],
   "source": [
    "# Chart the past_years_averages, years, and error data\n",
    "plt.figure(figsize=(10, 8))\n",
    "plt.bar(range(len(past_years_averages)), past_years_averages, yerr=error, capsize=5)\n",
    "plt.axis([-0.5, 6.5 70, 95])\n",
    "\n",
    "ax = plt.subplot()\n",
    "ax.set_xticks(range(len(years)))\n",
    "ax.set_xticklabels(years)\n",
    "\n",
    "plt.title(\"Final Exam Averages\")\n",
    "plt.ylabel(\"Test Average\")\n",
    "plt.xlabel(\"Year\")\n",
    "\n"
   ]
  }
 ],
 "metadata": {
  "kernelspec": {
   "display_name": "Python 3",
   "language": "python",
   "name": "python3"
  },
  "language_info": {
   "codemirror_mode": {
    "name": "ipython",
    "version": 3
   },
   "file_extension": ".py",
   "mimetype": "text/x-python",
   "name": "python",
   "nbconvert_exporter": "python",
   "pygments_lexer": "ipython3",
   "version": "3.8.8"
  }
 },
 "nbformat": 4,
 "nbformat_minor": 5
}
